{
 "cells": [
  {
   "cell_type": "code",
   "execution_count": 1,
   "metadata": {},
   "outputs": [],
   "source": [
    "import georasters as gr\n",
    "import rasterio\n",
    "from rasterio.features import shapes\n",
    "import operator\n",
    "from osgeo import gdal, gdalnumeric, ogr, osr\n",
    "from PIL import Image, ImageDraw\n",
    "%matplotlib inline \n",
    "mask = None"
   ]
  },
  {
   "cell_type": "code",
   "execution_count": 3,
   "metadata": {},
   "outputs": [],
   "source": [
    "raster = 'gpw-v4-population-density-adjusted-to-2015-unwpp-country-totals_2015.tif'\n",
    "shp = 'naturalearth_india_adm1.shp'\n",
    "output = \"popdensity_india.tif\""
   ]
  },
  {
   "cell_type": "code",
   "execution_count": 4,
   "metadata": {},
   "outputs": [],
   "source": [
    "# This function will convert the rasterized clipper shapefile \n",
    "# to a mask for use within GDAL.    \n",
    "def imageToArray(i):\n",
    "    \"\"\"\n",
    "    Converts a Python Imaging Library array to a \n",
    "    gdalnumeric image.\n",
    "    \"\"\"\n",
    "    a=gdalnumeric.fromstring(i.tostring(),'b')\n",
    "    a.shape=i.im.size[1], i.im.size[0]\n",
    "    return a\n",
    "\n",
    "def arrayToImage(a):\n",
    "    \"\"\"\n",
    "    Converts a gdalnumeric array to a \n",
    "    Python Imaging Library Image.\n",
    "    \"\"\"\n",
    "    i=Image.fromstring('L',(a.shape[1],a.shape[0]),\n",
    "            (a.astype('b')).tostring())\n",
    "    return i\n",
    "     \n",
    "def world2Pixel(geoMatrix, x, y):\n",
    "  \"\"\"\n",
    "  Uses a gdal geomatrix (gdal.GetGeoTransform()) to calculate\n",
    "  the pixel location of a geospatial coordinate \n",
    "  \"\"\"\n",
    "  ulX = geoMatrix[0]\n",
    "  ulY = geoMatrix[3]\n",
    "  xDist = geoMatrix[1]\n",
    "  yDist = geoMatrix[5]\n",
    "  rtnX = geoMatrix[2]\n",
    "  rtnY = geoMatrix[4]\n",
    "  pixel = int((x - ulX) / xDist)\n",
    "  line = int((ulY - y) / yDist)\n",
    "  return (pixel, line) \n",
    "\n",
    "def histogram(a, bins=range(0,256)):\n",
    "  \"\"\"\n",
    "  Histogram function for multi-dimensional array.\n",
    "  a = array\n",
    "  bins = range of numbers to match \n",
    "  \"\"\"\n",
    "  fa = a.flat\n",
    "  n = gdalnumeric.searchsorted(gdalnumeric.sort(fa), bins)\n",
    "  n = gdalnumeric.concatenate([n, [len(fa)]])\n",
    "  hist = n[1:]-n[:-1] \n",
    "  return hist\n",
    "\n",
    "def stretch(a):\n",
    "  \"\"\"\n",
    "  Performs a histogram stretch on a gdalnumeric array image.\n",
    "  \"\"\"\n",
    "  hist = histogram(a)\n",
    "  im = arrayToImage(a)   \n",
    "  lut = []\n",
    "  for b in range(0, len(hist), 256):\n",
    "    # step size\n",
    "    step = reduce(operator.add, hist[b:b+256]) / 255\n",
    "    # create equalization lookup table\n",
    "    n = 0\n",
    "    for i in range(256):\n",
    "      lut.append(n / step)\n",
    "      n = n + hist[i+b]\n",
    "  im = im.point(lut)\n",
    "  return imageToArray(im)"
   ]
  },
  {
   "cell_type": "code",
   "execution_count": 5,
   "metadata": {},
   "outputs": [],
   "source": [
    "# Load the source data as a gdalnumeric array\n",
    "srcArray = gdalnumeric.LoadFile(raster)"
   ]
  },
  {
   "cell_type": "code",
   "execution_count": 6,
   "metadata": {},
   "outputs": [],
   "source": [
    "# Also load as a gdal image to get geotransform \n",
    "# (world file) info\n",
    "srcImage = gdal.Open(raster)\n",
    "geoTrans = srcImage.GetGeoTransform()"
   ]
  },
  {
   "cell_type": "code",
   "execution_count": 10,
   "metadata": {},
   "outputs": [],
   "source": [
    "shapef = ogr.Open(shp)"
   ]
  },
  {
   "cell_type": "code",
   "execution_count": 11,
   "metadata": {},
   "outputs": [
    {
     "data": {
      "text/plain": [
       "<osgeo.ogr.DataSource; proxy of <Swig Object of type 'OGRDataSourceShadow *' at 0x1265f7900> >"
      ]
     },
     "execution_count": 11,
     "metadata": {},
     "output_type": "execute_result"
    }
   ],
   "source": [
    "shapef"
   ]
  },
  {
   "cell_type": "code",
   "execution_count": 8,
   "metadata": {},
   "outputs": [
    {
     "ename": "AttributeError",
     "evalue": "'NoneType' object has no attribute 'GetNextFeature'",
     "output_type": "error",
     "traceback": [
      "\u001b[0;31m---------------------------------------------------------------------------\u001b[0m",
      "\u001b[0;31mAttributeError\u001b[0m                            Traceback (most recent call last)",
      "\u001b[0;32m<ipython-input-8-6e3bfb807de5>\u001b[0m in \u001b[0;36m<module>\u001b[0;34m()\u001b[0m\n\u001b[1;32m      2\u001b[0m \u001b[0mshapef\u001b[0m \u001b[0;34m=\u001b[0m \u001b[0mogr\u001b[0m\u001b[0;34m.\u001b[0m\u001b[0mOpen\u001b[0m\u001b[0;34m(\u001b[0m\u001b[0mshp\u001b[0m\u001b[0;34m)\u001b[0m\u001b[0;34m\u001b[0m\u001b[0m\n\u001b[1;32m      3\u001b[0m \u001b[0mlyr\u001b[0m \u001b[0;34m=\u001b[0m \u001b[0mshapef\u001b[0m\u001b[0;34m.\u001b[0m\u001b[0mGetLayer\u001b[0m\u001b[0;34m(\u001b[0m\u001b[0mshp\u001b[0m\u001b[0;34m)\u001b[0m\u001b[0;34m\u001b[0m\u001b[0m\n\u001b[0;32m----> 4\u001b[0;31m \u001b[0mpoly\u001b[0m \u001b[0;34m=\u001b[0m \u001b[0mlyr\u001b[0m\u001b[0;34m.\u001b[0m\u001b[0mGetNextFeature\u001b[0m\u001b[0;34m(\u001b[0m\u001b[0;34m)\u001b[0m\u001b[0;34m\u001b[0m\u001b[0m\n\u001b[0m",
      "\u001b[0;31mAttributeError\u001b[0m: 'NoneType' object has no attribute 'GetNextFeature'"
     ]
    }
   ],
   "source": [
    "# Create an OGR layer from a boundary shapefile\n",
    "\n",
    "lyr = shapef.GetLayer(shp)\n",
    "poly = lyr.GetNextFeature()"
   ]
  },
  {
   "cell_type": "code",
   "execution_count": null,
   "metadata": {},
   "outputs": [],
   "source": [
    "\n",
    "\n",
    "\n",
    "\n",
    "\n",
    "# Convert the layer extent to image pixel coordinates\n",
    "minX, maxX, minY, maxY = lyr.GetExtent()\n",
    "ulX, ulY = world2Pixel(geoTrans, minX, maxY)\n",
    "lrX, lrY = world2Pixel(geoTrans, maxX, minY)\n",
    "\n",
    "# Calculate the pixel size of the new image\n",
    "pxWidth = int(lrX - ulX)\n",
    "pxHeight = int(lrY - ulY)\n",
    "\n",
    "clip = srcArray[:, ulY:lrY, ulX:lrX]\n",
    "\n",
    "# Create a new geomatrix for the image\n",
    "geoTrans = list(geoTrans)\n",
    "geoTrans[0] = minX\n",
    "geoTrans[3] = maxY\n",
    "\n",
    "# Map points to pixels for drawing the \n",
    "# boundary on a blank 8-bit, \n",
    "# black and white, mask image.\n",
    "points = []\n",
    "pixels = []\n",
    "geom = poly.GetGeometryRef()\n",
    "pts = geom.GetGeometryRef(0)\n",
    "for p in range(pts.GetPointCount()):\n",
    "  points.append((pts.GetX(p), pts.GetY(p)))\n",
    "for p in points:\n",
    "  pixels.append(world2Pixel(geoTrans, p[0], p[1]))\n",
    "rasterPoly = Image.new(\"L\", (pxWidth, pxHeight), 1)\n",
    "rasterize = ImageDraw.Draw(rasterPoly)\n",
    "rasterize.polygon(pixels, 0)\n",
    "mask = imageToArray(rasterPoly)   \n",
    "\n",
    "# Clip the image using the mask\n",
    "clip = gdalnumeric.choose(mask, \\\n",
    "    (clip, 0)).astype(gdalnumeric.uint8)\n",
    "\n",
    "# This image has 3 bands so we stretch each one to make them\n",
    "# visually brighter\n",
    "for i in range(3):\n",
    "  clip[i,:,:] = stretch(clip[i,:,:])\n",
    "\n",
    "# Save ndvi as tiff\n",
    "gdalnumeric.SaveArray(clip, \"%s.tif\" % output, \\\n",
    "    format=\"GTiff\", prototype=raster)\n",
    "\n",
    "# Save ndvi as an 8-bit jpeg for an easy, quick preview\n",
    "clip = clip.astype(gdalnumeric.uint8)\n",
    "gdalnumeric.SaveArray(clip, \"%s.jpg\" % output, format=\"JPEG\")"
   ]
  },
  {
   "cell_type": "code",
   "execution_count": 6,
   "metadata": {},
   "outputs": [],
   "source": [
    "data = gr.from_file(raster)"
   ]
  },
  {
   "cell_type": "code",
   "execution_count": 9,
   "metadata": {},
   "outputs": [
    {
     "data": {
      "text/plain": [
       "<matplotlib.image.AxesImage at 0x31308d048>"
      ]
     },
     "execution_count": 9,
     "metadata": {},
     "output_type": "execute_result"
    },
    {
     "data": {
      "image/png": "[encoded data removed]",
      "text/plain": [
       "<matplotlib.figure.Figure at 0x122e8f160>"
      ]
     },
     "metadata": {},
     "output_type": "display_data"
    }
   ],
   "source": [
    "data.plot()"
   ]
  },
  {
   "cell_type": "code",
   "execution_count": 10,
   "metadata": {},
   "outputs": [],
   "source": [
    "df = data.to_pandas()"
   ]
  },
  {
   "cell_type": "code",
   "execution_count": 13,
   "metadata": {},
   "outputs": [],
   "source": [
    "with rasterio.drivers():\n",
    "    with rasterio.open(raster) as src:\n",
    "        image = src.read(1) # first band\n",
    "        results = (\n",
    "        {'properties': {'raster_val': v}, 'geometry': s}\n",
    "        for i, (s, v) \n",
    "        in enumerate(\n",
    "            shapes(image, mask=mask, transform=src.affine)))"
   ]
  },
  {
   "cell_type": "code",
   "execution_count": null,
   "metadata": {},
   "outputs": [],
   "source": [
    "geoms = list(results)"
   ]
  },
  {
   "cell_type": "code",
   "execution_count": null,
   "metadata": {},
   "outputs": [],
   "source": [
    "geoms[0]"
   ]
  }
 ],
 "metadata": {
  "kernelspec": {
   "display_name": "Python [conda env:gdal2]",
   "language": "python",
   "name": "conda-env-gdal2-py"
  },
  "language_info": {
   "codemirror_mode": {
    "name": "ipython",
    "version": 3
   },
   "file_extension": ".py",
   "mimetype": "text/x-python",
   "name": "python",
   "nbconvert_exporter": "python",
   "pygments_lexer": "ipython3",
   "version": "3.6.2"
  }
 },
 "nbformat": 4,
 "nbformat_minor": 2
}
